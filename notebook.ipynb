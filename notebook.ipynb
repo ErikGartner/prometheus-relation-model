{
 "cells": [
  {
   "cell_type": "markdown",
   "metadata": {
    "deletable": true,
    "editable": true
   },
   "source": [
    "# Prometheus Relation Model\n",
    "\n",
    "`sbt publishM2`\n",
    "\n",
    "Repeat if the project has been updated, and also do:\n",
    "\n",
    "`rm -rf ~/.m2/repository/sonymobile`\n",
    "\n",
    "`rm -rf metastore_db`\n",
    "\n",
    "(*Important*: `kernel -> restart all` otherwise the previously used version of the promethues-relation-model lib be used again! Very confusing!) <- not sure if this is correct\n",
    "\n",
    "`prometheus-relation-model` requires [docforia](https://github.com/marcusklang/docforia), which must be git-cloned and `mvn install`:ed first (not yet on Maven repository unfortunately)."
   ]
  },
  {
   "cell_type": "code",
   "execution_count": 1,
   "metadata": {
    "collapsed": false,
    "deletable": true,
    "editable": true,
    "scrolled": false
   },
   "outputs": [
    {
     "name": "stdout",
     "output_type": "stream",
     "text": [
      "Marking sonymobile:prometheus-relation-model_2.10:0.0.1-SNAPSHOT for download\n",
      "Preparing to fetch from:\n",
      "-> file:/var/folders/28/5mj8jbrd13z_nssxk35nd25c0000gn/T/toree_add_deps2775019084942863782/\n",
      "-> file:/Users/axel/.m2/repository\n",
      "-> https://repo1.maven.org/maven2\n",
      "-> New file at /Users/axel/.m2/repository/se/lth/cs/nlp/docforia/1.0-SNAPSHOT/docforia-1.0-SNAPSHOT.jar\n",
      "-> New file at /Users/axel/.m2/repository/junit/junit/4.11/junit-4.11.jar\n",
      "-> New file at /Users/axel/.m2/repository/com/google/protobuf/protobuf-java/2.6.1/protobuf-java-2.6.1.jar\n",
      "-> New file at /Users/axel/.m2/repository/sonymobile/prometheus-relation-model_2.10/0.0.1-SNAPSHOT/prometheus-relation-model_2.10-0.0.1-SNAPSHOT.jar\n",
      "-> New file at /Users/axel/.m2/repository/org/xerial/snappy/snappy-java/1.1.2.1/snappy-java-1.1.2.1.jar\n",
      "-> New file at /Users/axel/.m2/repository/org/hamcrest/hamcrest-core/1.3/hamcrest-core-1.3.jar\n",
      "-> New file at /var/folders/28/5mj8jbrd13z_nssxk35nd25c0000gn/T/toree_add_deps2775019084942863782/https/repo1.maven.org/maven2/com/fasterxml/jackson/core/jackson-annotations/2.8.6/jackson-annotations-2.8.6.jar\n",
      "-> New file at /var/folders/28/5mj8jbrd13z_nssxk35nd25c0000gn/T/toree_add_deps2775019084942863782/https/repo1.maven.org/maven2/com/fasterxml/jackson/module/jackson-module-paranamer/2.8.6/jackson-module-paranamer-2.8.6.jar\n",
      "-> New file at /var/folders/28/5mj8jbrd13z_nssxk35nd25c0000gn/T/toree_add_deps2775019084942863782/https/repo1.maven.org/maven2/com/thoughtworks/paranamer/paranamer/2.8/paranamer-2.8.jar\n",
      "-> New file at /Users/axel/.m2/repository/it/unimi/dsi/fastutil/6.3/fastutil-6.3.jar\n",
      "-> New file at /var/folders/28/5mj8jbrd13z_nssxk35nd25c0000gn/T/toree_add_deps2775019084942863782/https/repo1.maven.org/maven2/com/fasterxml/jackson/core/jackson-core/2.8.6/jackson-core-2.8.6.jar\n",
      "-> New file at /var/folders/28/5mj8jbrd13z_nssxk35nd25c0000gn/T/toree_add_deps2775019084942863782/https/repo1.maven.org/maven2/com/fasterxml/jackson/module/jackson-module-scala_2.10/2.8.6/jackson-module-scala_2.10-2.8.6.jar\n",
      "-> New file at /var/folders/28/5mj8jbrd13z_nssxk35nd25c0000gn/T/toree_add_deps2775019084942863782/https/repo1.maven.org/maven2/org/rogach/scallop_2.10/2.1.0/scallop_2.10-2.1.0.jar\n",
      "-> New file at /var/folders/28/5mj8jbrd13z_nssxk35nd25c0000gn/T/toree_add_deps2775019084942863782/https/repo1.maven.org/maven2/com/fasterxml/jackson/core/jackson-databind/2.8.6/jackson-databind-2.8.6.jar\n"
     ]
    }
   ],
   "source": [
    "%AddDeps sonymobile prometheus-relation-model_2.10 0.0.1-SNAPSHOT --transitive --repository file:/Users/axel/.m2/repository"
   ]
  },
  {
   "cell_type": "code",
   "execution_count": 8,
   "metadata": {
    "collapsed": false,
    "deletable": true,
    "editable": true
   },
   "outputs": [],
   "source": [
    "import com.sony.relationmodel.CorpusReader\n",
    "\n",
    "val docs = CorpusReader.readCorpus(\"/Users/axel/utveckling/prometheus/wikipedia-corpus-herd\", 0.001)(sqlContext, sc)"
   ]
  },
  {
   "cell_type": "code",
   "execution_count": 16,
   "metadata": {
    "collapsed": false,
    "deletable": true,
    "editable": true
   },
   "outputs": [
    {
     "name": "stdout",
     "output_type": "stream",
     "text": [
      "class org.apache.spark.mllib.linalg.SparseVector\n"
     ]
    }
   ],
   "source": [
    "import org.apache.spark.mllib.linalg.{SparseVector, Vector, Vectors}\n",
    "val sparseV = Vectors.sparse(50, Array(0, 2), Array(1.0, 3.0))\n",
    "println(sparseV.getClass)"
   ]
  },
  {
   "cell_type": "markdown",
   "metadata": {
    "deletable": true,
    "editable": true
   },
   "source": [
    "# One-vs-All"
   ]
  },
  {
   "cell_type": "code",
   "execution_count": 3,
   "metadata": {
    "collapsed": false,
    "deletable": true,
    "editable": true
   },
   "outputs": [],
   "source": [
    "import java.util.concurrent.TimeUnit.{NANOSECONDS => NANO}\n",
    "\n",
    "import org.apache.spark.{SparkContext, SparkConf}\n",
    "import org.apache.spark.ml.classification.{OneVsRest, LogisticRegression}\n",
    "import org.apache.spark.ml.util.MetadataUtils\n",
    "import org.apache.spark.mllib.evaluation.MulticlassMetrics\n",
    "import org.apache.spark.mllib.linalg.Vector\n",
    "import org.apache.spark.sql.DataFrame"
   ]
  },
  {
   "cell_type": "code",
   "execution_count": 4,
   "metadata": {
    "collapsed": false,
    "deletable": true,
    "editable": true
   },
   "outputs": [],
   "source": [
    "val inputData = sqlContext.read.format(\"libsvm\").load(\"iris.scale\")\n",
    "val data = inputData.randomSplit(Array(0.8, 0.2))\n",
    "\n",
    "val Array(train, test) = data.map(_.cache())"
   ]
  },
  {
   "cell_type": "code",
   "execution_count": 5,
   "metadata": {
    "collapsed": false,
    "deletable": true,
    "editable": true
   },
   "outputs": [
    {
     "name": "stdout",
     "output_type": "stream",
     "text": [
      "root\n",
      " |-- label: double (nullable = false)\n",
      " |-- features: vector (nullable = false)\n",
      "\n"
     ]
    }
   ],
   "source": [
    "val classifier = new LogisticRegression().setMaxIter(10).setTol(1E-6).setFitIntercept(true)\n",
    "inputData.printSchema()"
   ]
  },
  {
   "cell_type": "code",
   "execution_count": 6,
   "metadata": {
    "collapsed": false,
    "deletable": true,
    "editable": true
   },
   "outputs": [
    {
     "data": {
      "text/plain": [
       "oneVsRest_6c70a1c26a7e"
      ]
     },
     "execution_count": 6,
     "metadata": {},
     "output_type": "execute_result"
    }
   ],
   "source": [
    "val ovr = new OneVsRest()\n",
    "ovr.setClassifier(classifier)"
   ]
  },
  {
   "cell_type": "code",
   "execution_count": 7,
   "metadata": {
    "collapsed": false,
    "deletable": true,
    "editable": true
   },
   "outputs": [],
   "source": [
    "val ovrModel = ovr.fit(train)"
   ]
  },
  {
   "cell_type": "code",
   "execution_count": 11,
   "metadata": {
    "collapsed": false,
    "deletable": true,
    "editable": true
   },
   "outputs": [
    {
     "name": "stdout",
     "output_type": "stream",
     "text": [
      "+-----+--------------------+----------+\n",
      "|label|            features|prediction|\n",
      "+-----+--------------------+----------+\n",
      "|  0.0|(4,[0,1,2,3],[0.0...|       0.0|\n",
      "|  0.0|(4,[0,1,2,3],[0.1...|       0.0|\n",
      "|  0.0|(4,[0,1,2,3],[0.1...|       0.0|\n",
      "|  0.0|(4,[0,1,2,3],[0.8...|       0.0|\n",
      "|  0.0|(4,[0,2,3],[0.611...|       0.0|\n",
      "|  1.0|(4,[0,1,2,3],[-0....|       1.0|\n",
      "|  1.0|(4,[0,1,2,3],[-0....|       1.0|\n",
      "|  1.0|(4,[0,1,2,3],[-0....|       1.0|\n",
      "|  1.0|(4,[0,1,2,3],[-0....|       1.0|\n",
      "|  2.0|(4,[0,1,2,3],[-0....|       2.0|\n",
      "|  2.0|(4,[0,1,2,3],[-0....|       2.0|\n",
      "|  2.0|(4,[0,1,2,3],[-0....|       2.0|\n",
      "|  0.0|(4,[0,1,2,3],[-0....|       0.0|\n",
      "|  0.0|(4,[0,1,2,3],[-1....|       0.0|\n",
      "|  0.0|(4,[0,1,2,3],[0.3...|       0.0|\n",
      "|  0.0|(4,[0,1,2,3],[0.8...|       0.0|\n",
      "|  0.0|(4,[0,2,3],[0.222...|       0.0|\n",
      "|  1.0|(4,[0,1,2,3],[-0....|       1.0|\n",
      "|  1.0|(4,[0,1,2,3],[-0....|       1.0|\n",
      "|  1.0|(4,[0,2,3],[-0.77...|       1.0|\n",
      "|  2.0|(4,[0,1,2,3],[-0....|       2.0|\n",
      "|  2.0|(4,[0,1,2,3],[-0....|       2.0|\n",
      "|  2.0|(4,[0,1,2,3],[-0....|       2.0|\n",
      "|  2.0|(4,[0,1,2,3],[-0....|       2.0|\n",
      "|  2.0|(4,[0,1,2,3],[-1....|       2.0|\n",
      "|  2.0|(4,[0,1,2,3],[0.1...|       2.0|\n",
      "|  2.0|(4,[0,1,2,3],[0.3...|       2.0|\n",
      "+-----+--------------------+----------+\n",
      "\n"
     ]
    },
    {
     "data": {
      "text/plain": [
       "(4,[0,1,2,3],[0.0555554,0.166667,0.491525,0.833333])"
      ]
     },
     "execution_count": 11,
     "metadata": {},
     "output_type": "execute_result"
    }
   ],
   "source": [
    "val predictions = ovrModel.transform(test)\n",
    "val predictionsAndLabels = predictions.select(\"prediction\", \"label\").map(row => (row.getDouble(0), row.getDouble(1)))\n",
    "predictions.show(100)\n",
    "predictions.take(1)(0).get(1)"
   ]
  },
  {
   "cell_type": "code",
   "execution_count": 83,
   "metadata": {
    "collapsed": false,
    "deletable": true,
    "editable": true
   },
   "outputs": [],
   "source": [
    "val metrics = new MulticlassMetrics(predictionsAndLabels)\n",
    "val confusionMatrix = metrics.confusionMatrix"
   ]
  },
  {
   "cell_type": "code",
   "execution_count": 58,
   "metadata": {
    "collapsed": false,
    "deletable": true,
    "editable": true
   },
   "outputs": [
    {
     "name": "stdout",
     "output_type": "stream",
     "text": [
      " Confusion Matrix\n",
      " 10.0  0.0  1.0   \n",
      "0.0   3.0  0.0   \n",
      "0.0   0.0  10.0  \n",
      "\n"
     ]
    }
   ],
   "source": [
    "println(s\" Confusion Matrix\\n ${confusionMatrix.toString}\\n\")"
   ]
  }
 ],
 "metadata": {
  "kernelspec": {
   "display_name": "Apache Toree - Scala",
   "language": "scala",
   "name": "apache_toree_scala"
  },
  "language_info": {
   "name": "scala",
   "version": "2.10.4"
  }
 },
 "nbformat": 4,
 "nbformat_minor": 2
}
