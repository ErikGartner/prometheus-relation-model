{
 "cells": [
  {
   "cell_type": "markdown",
   "metadata": {
    "deletable": true,
    "editable": true
   },
   "source": [
    "# Prometheus Relation Model\n",
    "\n",
    "`sbt publishM2`\n",
    "\n",
    "Repeat if the project has been updated, and also do:\n",
    "\n",
    "`rm -rf ~/.m2/repository/sonymobile`\n",
    "\n",
    "`rm -rf metastore_db`\n",
    "\n",
    "(*Important*: `kernel -> restart all` otherwise the previously used version of the promethues-relation-model lib be used again! Very confusing!) <- not sure if this is correct\n",
    "\n",
    "`prometheus-relation-model` requires [docforia](https://github.com/marcusklang/docforia), which must be git-cloned and `mvn install`:ed first (not yet on Maven repository unfortunately)."
   ]
  },
  {
   "cell_type": "code",
   "execution_count": 1,
   "metadata": {
    "collapsed": false,
    "deletable": true,
    "editable": true,
    "scrolled": false
   },
   "outputs": [
    {
     "name": "stdout",
     "output_type": "stream",
     "text": [
      "Marking sonymobile:prometheus-relation-model_2.10:0.0.1-SNAPSHOT for download\n",
      "Preparing to fetch from:\n",
      "-> file:/var/folders/28/5mj8jbrd13z_nssxk35nd25c0000gn/T/toree_add_deps2775019084942863782/\n",
      "-> file:/Users/axel/.m2/repository\n",
      "-> https://repo1.maven.org/maven2\n",
      "-> New file at /Users/axel/.m2/repository/se/lth/cs/nlp/docforia/1.0-SNAPSHOT/docforia-1.0-SNAPSHOT.jar\n",
      "-> New file at /Users/axel/.m2/repository/junit/junit/4.11/junit-4.11.jar\n",
      "-> New file at /Users/axel/.m2/repository/com/google/protobuf/protobuf-java/2.6.1/protobuf-java-2.6.1.jar\n",
      "-> New file at /Users/axel/.m2/repository/sonymobile/prometheus-relation-model_2.10/0.0.1-SNAPSHOT/prometheus-relation-model_2.10-0.0.1-SNAPSHOT.jar\n",
      "-> New file at /Users/axel/.m2/repository/org/xerial/snappy/snappy-java/1.1.2.1/snappy-java-1.1.2.1.jar\n",
      "-> New file at /Users/axel/.m2/repository/org/hamcrest/hamcrest-core/1.3/hamcrest-core-1.3.jar\n",
      "-> New file at /var/folders/28/5mj8jbrd13z_nssxk35nd25c0000gn/T/toree_add_deps2775019084942863782/https/repo1.maven.org/maven2/com/fasterxml/jackson/core/jackson-annotations/2.8.6/jackson-annotations-2.8.6.jar\n",
      "-> New file at /var/folders/28/5mj8jbrd13z_nssxk35nd25c0000gn/T/toree_add_deps2775019084942863782/https/repo1.maven.org/maven2/com/fasterxml/jackson/module/jackson-module-paranamer/2.8.6/jackson-module-paranamer-2.8.6.jar\n",
      "-> New file at /var/folders/28/5mj8jbrd13z_nssxk35nd25c0000gn/T/toree_add_deps2775019084942863782/https/repo1.maven.org/maven2/com/thoughtworks/paranamer/paranamer/2.8/paranamer-2.8.jar\n",
      "-> New file at /Users/axel/.m2/repository/it/unimi/dsi/fastutil/6.3/fastutil-6.3.jar\n",
      "-> New file at /var/folders/28/5mj8jbrd13z_nssxk35nd25c0000gn/T/toree_add_deps2775019084942863782/https/repo1.maven.org/maven2/com/fasterxml/jackson/core/jackson-core/2.8.6/jackson-core-2.8.6.jar\n",
      "-> New file at /var/folders/28/5mj8jbrd13z_nssxk35nd25c0000gn/T/toree_add_deps2775019084942863782/https/repo1.maven.org/maven2/com/fasterxml/jackson/module/jackson-module-scala_2.10/2.8.6/jackson-module-scala_2.10-2.8.6.jar\n",
      "-> New file at /var/folders/28/5mj8jbrd13z_nssxk35nd25c0000gn/T/toree_add_deps2775019084942863782/https/repo1.maven.org/maven2/org/rogach/scallop_2.10/2.1.0/scallop_2.10-2.1.0.jar\n",
      "-> New file at /var/folders/28/5mj8jbrd13z_nssxk35nd25c0000gn/T/toree_add_deps2775019084942863782/https/repo1.maven.org/maven2/com/fasterxml/jackson/core/jackson-databind/2.8.6/jackson-databind-2.8.6.jar\n"
     ]
    }
   ],
   "source": [
    "%AddDeps sonymobile prometheus-relation-model_2.10 0.0.1-SNAPSHOT --transitive --repository file:/Users/axel/.m2/repository"
   ]
  },
  {
   "cell_type": "code",
   "execution_count": 8,
   "metadata": {
    "collapsed": false,
    "deletable": true,
    "editable": true
   },
   "outputs": [],
   "source": [
    "import com.sony.relationmodel.CorpusReader\n",
    "\n",
    "val docs = CorpusReader.readCorpus(\"/Users/axel/utveckling/prometheus/wikipedia-corpus-herd\", 0.001)(sqlContext, sc)"
   ]
  },
  {
   "cell_type": "code",
   "execution_count": 16,
   "metadata": {
    "collapsed": false
   },
   "outputs": [
    {
     "name": "stdout",
     "output_type": "stream",
     "text": [
      "class org.apache.spark.mllib.linalg.SparseVector\n"
     ]
    }
   ],
   "source": [
    "import org.apache.spark.mllib.linalg.{SparseVector, Vector, Vectors}\n",
    "val sparseV = Vectors.sparse(50, Array(0, 2), Array(1.0, 3.0))\n",
    "println(sparseV.getClass)"
   ]
  }
 ],
 "metadata": {
  "kernelspec": {
   "display_name": "Apache Toree - Scala",
   "language": "scala",
   "name": "apache_toree_scala"
  },
  "language_info": {
   "name": "scala",
   "version": "2.10.4"
  }
 },
 "nbformat": 4,
 "nbformat_minor": 2
}
