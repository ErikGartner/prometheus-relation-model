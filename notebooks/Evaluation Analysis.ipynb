{
 "cells": [
  {
   "cell_type": "code",
   "execution_count": 1,
   "metadata": {
    "collapsed": false,
    "deletable": true,
    "editable": true
   },
   "outputs": [],
   "source": [
    "import scala.io.Source\n",
    "val sqlC = new org.apache.spark.sql.SQLContext(sc)\n",
    "import sqlC.implicits._"
   ]
  },
  {
   "cell_type": "code",
   "execution_count": 2,
   "metadata": {
    "collapsed": false,
    "deletable": true,
    "editable": true
   },
   "outputs": [],
   "source": [
    "case class Eval(sentences: String, pos: String, rdf: String, herd: String, predictions: String)\n",
    "def evalIterator(filename: String): Iterator[Eval] = {\n",
    "    for {\n",
    "        line <- Source.fromFile(filename).getLines().drop(1)\n",
    "        sentences = line.split(\"\\t\")(0)\n",
    "        pos = line.split(\"\\t\")(1)\n",
    "        rdf = line.split(\"\\t\")(2)\n",
    "        herd = line.split(\"\\t\")(3)\n",
    "        predictions = line.split(\"\\t\").drop(4).mkString(\" \")\n",
    "    } yield Eval(sentences, pos, rdf, herd, predictions)\n",
    "}"
   ]
  },
  {
   "cell_type": "code",
   "execution_count": 23,
   "metadata": {
    "collapsed": false
   },
   "outputs": [],
   "source": [
    "val THRESHOLD = 0.75\n",
    "def aboveThreshold(eval: Eval): Eval = {\n",
    "    val probRe = \"\"\"(0\\.\\d+)\"\"\".r\n",
    "    \n",
    "    eval.copy(predictions = eval.predictions.split(\"\\t\").filter(pred => {\n",
    "        probRe.findFirstIn(pred) match {\n",
    "            case Some(prob) => prob.toDouble >= THRESHOLD\n",
    "            case _ => true // should never happen\n",
    "        }\n",
    "    }).mkString(\"\\t\"))\n",
    "}"
   ]
  },
  {
   "cell_type": "code",
   "execution_count": 26,
   "metadata": {
    "collapsed": false
   },
   "outputs": [
    {
     "data": {
      "text/plain": [
       "Eval(sentecs,true,rdf,herd,Q180589/P26/Q1900092 - 0.7921478929039968 - false\tQ180589/P26/Q4133024 - 0.8584705916062333 - false)"
      ]
     },
     "execution_count": 26,
     "metadata": {},
     "output_type": "execute_result"
    }
   ],
   "source": [
    "// test aboveThreshold\n",
    "val eval = Eval(\"sentecs\", \"true\", \"rdf\", \"herd\", predictions = \"Q180589/P26/Q1900092 - 0.7921478929039968 - false\\tQ180589/P26/Q4133024 - 0.8584705916062333 - false\")\n",
    "aboveThreshold(eval)"
   ]
  },
  {
   "cell_type": "markdown",
   "metadata": {
    "deletable": true,
    "editable": true
   },
   "source": [
    "# Place of Birth"
   ]
  },
  {
   "cell_type": "code",
   "execution_count": 53,
   "metadata": {
    "collapsed": false,
    "deletable": true,
    "editable": true
   },
   "outputs": [
    {
     "name": "stdout",
     "output_type": "stream",
     "text": [
      "nbr of data points: 1616\n",
      "nbr herd successful: 756\n",
      "herd independent true positives: 489\n",
      "true positives where herd was succesful: 489\n"
     ]
    }
   ],
   "source": [
    "val placeBirthFile = \"2017-08-12_22.59.18-eval-place_of_birth_debug.tsv\"\n",
    "val placeBirth = evalIterator(placeBirthFile).map(aboveThreshold(_)).filter(_.pos == \"true\").toList\n",
    "println(s\"nbr of data points: ${placeBirth.size}\")\n",
    "val herdSuccessful = placeBirth.filter(_.herd == \"true\")\n",
    "println(s\"nbr herd successful: ${herdSuccessful.size}\")\n",
    "val herdIndependentTP = herdSuccessful.filter(_.predictions.split(\"\\t\").exists(_.contains(\"true\")))\n",
    "println(s\"herd independent true positives: ${herdIndependentTP.size}\")\n",
    "\n",
    "val truePosOfHerdSuccessful = herdSuccessful.map(_.predictions.split(\"\\t\").map(p => if (p.contains(\"true\")) 1 else 0).sum).sum                                                 \n",
    "println(s\"true positives where herd was succesful: $truePosOfHerdSuccessful\")"
   ]
  },
  {
   "cell_type": "code",
   "execution_count": 31,
   "metadata": {
    "collapsed": false,
    "deletable": true,
    "editable": true
   },
   "outputs": [
    {
     "name": "stdout",
     "output_type": "stream",
     "text": [
      "length of match: 505\n"
     ]
    }
   ],
   "source": [
    "val placeBirthList = placeBirth.toList\n",
    "placeBirthList\n",
    "println(s\"length of match: ${placeBirthList.length}\")\n",
    "val placeBirthDF = sc.parallelize(placeBirthList).toDF()"
   ]
  },
  {
   "cell_type": "code",
   "execution_count": 32,
   "metadata": {
    "collapsed": false,
    "deletable": true,
    "editable": true,
    "scrolled": true
   },
   "outputs": [
    {
     "data": {
      "text/html": [
       "<table><tr><th>sentences</th><th>pos</th><th>rdf</th><th>herd</th><th>predictions</th></tr><tr><td>Emmanuel Scheffer (, born 1 February 1924 in Germany) is an Israeli football coach.</td><td>true</td><td>Q2527091/P19/Q183</td><td>true</td><td>Q2527091/P19/Q183 - 0.7909471923941436 - true</td></tr><tr><td>Juan Laporte (born November 24, 1959) is a former boxer who was born in Guayama, Puerto Rico.</td><td>true</td><td>Q1101615/P19/Q1870997</td><td>true</td><td>Q1101615/P19/Q1870997 - 0.8490445217839139 - true</td></tr><tr><td>Vanessa Chinitor (born 13 October 1976, Dendermonde) is a Belgian singer, best known outside Belgium for her participation in the 1999 Eurovision Song Contest.</td><td>true</td><td>Q433783/P19/Q13122</td><td>true</td><td>Q433783/P19/Q13122 - 0.8984325541652719 - true</td></tr><tr><td>Isaac Passy (; March 13, 1928, Plovdiv -- August 13, 2010) was a Bulgarian philosopher specializing in aesthetics. He was a professor at Sofia University from 1952 until 1993. He was the most prolific philosopher in the history of Bulgaria. He published over 40 monographs and over 80 volumes of the philosophical classics. He was the father of Solomon Passy.</td><td>true</td><td>Q2901020/P19/Q459</td><td>true</td><td>Q2901020/P19/Q459 - 0.7995216933144685 - true</td></tr><tr><td>Francisco de Osuna (1497--1541) was a Spanish author, born in Seville.</td><td>true</td><td>Q921537/P19/Q8717</td><td>true</td><td>Q921537/P19/Q8717 - 0.932614625756665 - true</td></tr><tr><td>Lars Gabriel von Haartman (23 September 1789 Turku - 16 December 1859 Merimasku) was a Swedish-speaking Finnish politician. Along with Count Gustaf Mauritz Armfelt, he was one of the most prominent politicians who were in favour of developing Finland as part of the Russian Empire instead of striving towards independence.</td><td>true</td><td>Q2564079/P19/Q38511</td><td>true</td><td>Q2564079/P19/Q38511 - 0.7705465541778971 - true</td></tr><tr><td>Nina Repeta (born September 10, 1967 in Shelby, North Carolina) is an American actress best known for her role as Bessie Potter on the television drama Dawson's Creek, which aired from 1998 to 2003.</td><td>true</td><td>Q177110/P19/Q2029222</td><td>true</td><td>Q177110/P19/Q2029222 - 0.8620242418814815 - true</td></tr><tr><td>Mark Koevermans (born 3 February 1968 in Rotterdam) is a former tennis player from the Netherlands, who turned professional in 1987. He represented his native country as a lucky loser at the 1992 Summer Olympics in Barcelona, where he was defeated in the third round by Brazil's Jaime Oncins. The right-hander, nicknamed Koef, won one career title in singles (Athens, 1990). He reached his highest singles ATP-ranking on 27 May 1991, when he became the number 37 of the world.</td><td>true</td><td>Q610060/P19/Q34370</td><td>true</td><td>Q610060/P19/Q1524 - 0.7813850128585691 - false Q610060/P19/Q34370 - 0.8822166471274631 - true</td></tr><tr><td>Małgorzata Olejnik (born June 3, 1966 in Kielce) is a Polish politician. She was elected to Sejm on September 25, 2005 getting 12398 votes in 33 Kielce district, candidating from Samoobrona Rzeczpospolitej Polskiej list.</td><td>true</td><td>Q2752384/P19/Q102317</td><td>true</td><td>Q2752384/P19/Q102317 - 0.8667805576273522 - true</td></tr><tr><td>Rick Kelly (born on 17 January 1983 in Mildura, Victoria, Australia) is a current V8 Supercar racing driver, currently living in Melbourne, Victoria. He is the younger brother of former Bathurst 1000 champion, Todd Kelly. He previously drove for the HSV Dealer Team and has previously contributed to winning at the Bathurst 1000 alongside Greg Murphy in 2003 and 2004 under the banner of Kmart Racing. Kelly was the 2006 V8 Supercar Champion for the HSV Dealer Team. He moved to the new formed family team Kelly Racing for 2009 and onwards.</td><td>true</td><td>Q2742848/P19/Q705829</td><td>true</td><td>Q2742848/P19/Q36687 - 0.8328804537474631 - false Q2742848/P19/Q705829 - 0.8721254725037106 - true</td></tr></table>"
      ]
     },
     "execution_count": 32,
     "metadata": {},
     "output_type": "execute_result"
    }
   ],
   "source": [
    "%%dataframe\n",
    "placeBirthDF"
   ]
  },
  {
   "cell_type": "markdown",
   "metadata": {
    "collapsed": false,
    "deletable": true,
    "editable": true
   },
   "source": [
    "* Q3388789 = Morris S Miller\n",
    "* Q11701 = US House of Repr.\n",
    "* Q60 = NYC\n",
    "* Q1567748 = Union College\n",
    "* Q331380 = Schenectady"
   ]
  },
  {
   "cell_type": "markdown",
   "metadata": {
    "collapsed": true,
    "deletable": true,
    "editable": true
   },
   "source": [
    "# Institution"
   ]
  },
  {
   "cell_type": "code",
   "execution_count": 54,
   "metadata": {
    "collapsed": false,
    "deletable": true,
    "editable": true
   },
   "outputs": [
    {
     "name": "stdout",
     "output_type": "stream",
     "text": [
      "nbr of data points: 3850\n",
      "nbr herd successful: 791\n",
      "herd independent true positives: 71\n",
      "true positives where herd was succesful: 71\n"
     ]
    }
   ],
   "source": [
    "val instFile = \"2017-08-12_22.59.18-eval_institution_debug.tsv\"\n",
    "val inst = evalIterator(instFile).map(aboveThreshold(_)).filter(_.pos == \"true\").toList\n",
    "\n",
    "println(s\"nbr of data points: ${inst.size}\")\n",
    "val herdSuccessful = inst.filter(_.herd == \"true\")\n",
    "println(s\"nbr herd successful: ${herdSuccessful.size}\")\n",
    "\n",
    "val truePosOfHerdSuccessful = herdSuccessful.map(_.predictions.split(\"\\t\").map(p => if (p.contains(\"true\")) 1 else 0).sum).sum                                                 \n",
    "val herdIndependentTP = herdSuccessful.filter(_.predictions.split(\"\\t\").exists(_.contains(\"true\")))\n",
    "println(s\"herd independent true positives: ${herdIndependentTP.size}\")\n",
    "println(s\"true positives where herd was succesful: $truePosOfHerdSuccessful\")"
   ]
  },
  {
   "cell_type": "code",
   "execution_count": 57,
   "metadata": {
    "collapsed": false,
    "deletable": true,
    "editable": true
   },
   "outputs": [
    {
     "name": "stdout",
     "output_type": "stream",
     "text": [
      "length of match where herd was sucessful but we were not: 239\n"
     ]
    }
   ],
   "source": [
    "val instList = herdSuccessful.filter(_.predictions.split(\"\\t\").exists(_.contains(\"false\"))).toList\n",
    "instList\n",
    "println(s\"length of match where herd was sucessful but we were not: ${instList.length}\")\n",
    "val instDF = sc.parallelize(instList).toDF()"
   ]
  },
  {
   "cell_type": "code",
   "execution_count": 56,
   "metadata": {
    "collapsed": false,
    "deletable": true,
    "editable": true
   },
   "outputs": [
    {
     "data": {
      "text/html": [
       "<table><tr><th>sentences</th><th>pos</th><th>rdf</th><th>herd</th><th>predictions</th></tr><tr><td>John Courtney Murray was born in New York City in 1904 and entered the New York province of the Society of Jesus in 1920. He studied Classics and Philosophy at Boston College, receiving bachelor's and master's degrees in 1926 and 1927 respectively. Following his graduation, he travelled to the Philippines where he taught Latin and English literature at the Ateneo de Manila. He returned to the United States in 1930 and was ordained a Roman Catholic priest in 1933. He pursued further studies at the Gregorian University in Rome and completed a doctorate in sacred theology in 1937. Returning to the United States, he taught Catholic trinitarian theology at the Jesuit theologate at Woodstock, Maryland and, in 1941, was named editor of the Jesuit journal Theological Studies. He held both positions until his death in Queens, New York in 1967. He died of a heart attack.</td><td>true</td><td>Q2619214/P69/Q467025</td><td>true</td><td>Q2619214/P19/Q60 - 0.8121855113438503 - false</td></tr><tr><td>Born and raised in New York City, novelist, poet and performance artist Kathy Acker came to be closely associated with the punk movement of the 1970s and '80s that affected much of the culture in and around Manhattan. As an adult, however, she moved around quite a bit. She received her bachelor's degree from the University of California, San Diego in 1968; there she worked with David Antin and Jerome Rothenberg.</td><td>true</td><td>Q270641/P69/Q622664</td><td>true</td><td>Q270641/P19/Q11299 - 0.7647229653322255 - false Q5230808/P26/Q1775056 - 0.6636213926570664 - false</td></tr><tr><td>Mirrione was born in Santa Clara County, California. He attended Bellarmine College Preparatory and then the University of California, Santa Cruz, from which he received his bachelor's degree in 1991. He moved to Los Angeles, and began a collaboration with Doug Liman, who was then a graduate student at the University of Southern California School of Cinematic Arts. Mirrione edited Liman's first feature films Getting In (1994), Swingers (1996), and Go (1999), which was an homage to Akira Kurosawa's 1950 film Rashomon.</td><td>true</td><td>Q349339/P69/Q1583249</td><td>true</td><td>Q349339/P26/Q8006 - 0.9147220426094974 - false Q349339/P69/Q1583249 - 0.7300737065804097 - true Q8006/P26/Q349339 - 0.8328457211464527 - false</td></tr><tr><td>Ildebrando Antoniutti was born in Nimis, the sixth of the seven children of Giuseppe and Anna (née Comelli) Antoniutti. Studying at the seminaries in Cividale and Udine, he accompanied Archbishop Antonio Anastasio Rossi of Udine during World War I on Rossi's frequent visits to military hospitals and to parishes in areas occupied by Austro-Hungarian forces. In November 1917 Antoniutti went to Rome, where he studied at the Pontifical Roman Seminary and Pontifical Lateran University (from where he obtained his doctorates in philosophy, theology, and canon law in July 1920).</td><td>true</td><td>Q1114130/P69/Q475007</td><td>true</td><td>Q1114130/P19/Q53296 - 0.8303944602910945 - false</td></tr><tr><td>Ivan Lins was born in Rio de Janeiro. He spent several years in Boston, Massachusetts, while his father, a naval engineer, continued his graduate studies at M.I.T., studied at the Military College in Rio. He later received a degree in industrial chemical engineering from the Federal University of Rio de Janeiro. He considered a career in volleyball before discovering his considerable musical talent. Ivan Lins currently resides in Rio de Janeiro, Brazil.</td><td>true</td><td>Q703330/P69/Q586904</td><td>true</td><td>Q703330/P19/Q8678 - 0.86262253462012 - false</td></tr><tr><td>Anton Buttigieg was born in Qala, Gozo, on February 19, 1912, the third child of Salvatore and Concetta (née Falzon). He was educated at the Government Primary School, Qala (1916--1922), the Gozo Seminary (1923--1927), St Aloysius' College Malta (1928--1930) and the University of Malta, where he graduated Bachelor of Arts in 1934 and Doctor of Laws in 1940.</td><td>true</td><td>Q250177/P69/Q426045</td><td>true</td><td>Q250177/P19/Q1088033 - 0.8432996120783868 - false Q1088033/P69/Q426045 - 0.5894338874918948 - false Q250177/P19/Q170488 - 0.700372185176385 - false</td></tr><tr><td>Karl Eduard von Holtei was born at Breslau, the son of an officer of Hussars. Having served in the Prussian army as a volunteer in 1815, he shortly afterwards entered the University of Breslau as a student of law; but, attracted by the stage, he soon forsook academic life and made his debut in the Breslau theatre as Mortimer in Schiller's Mona Stuart. He led a wandering life for the next two years, appearing less on the stage as an actor than as a reciter of his own poems. In 1821 he married the actress Luise Roge (1800-1825), and was appointed theatre-poet to the Breslau stage. He next removed to Berlin, where his wife fulfilled an engagement at the Court theatre. During his sojourn here he produced the vaudevilles Die Wiener in Berlin (1824), and Die Berliner in Wien (1825), pieces which enjoyed at the time great popular favour.</td><td>true</td><td>Q66388/P69/Q315658</td><td>true</td><td>Q66388/P19/Q1799 - 0.8704470162799992 - false</td></tr><tr><td>Wamsutta was born in circa 1634 as the eldest son of Massasoit, leader of the Wampanoag. Wamsutta and his brother Metacomet studied at Harvard College. Wamsutta married Weetamoo. After their father, Massasoit, died in 1661, the two sons commemorated the life-changing event by officially changing their names. Wamsutta took the name of ``Alexander'' and Metacomet took the name of ``Philip''. Having later stated that he was more important than the leaders of the English colonies, he acquired the nickname ``King Philip''.</td><td>true</td><td>Q729648/P69/Q49123</td><td>true</td><td>Q739904/P26/Q4470200 - 0.9340866559779325 - false Q739904/P26/Q729648 - 0.6942919701325586 - false Q729648/P26/Q739904 - 0.5093239861096331 - false Q4470200/P26/Q739904 - 0.8663102806838371 - false Q729648/P69/Q49123 - 0.6341141360540401 - true Q739904/P69/Q49123 - 0.8123878103890085 - false</td></tr><tr><td>J. Russell Leech was born in Ebensburg, Pennsylvania. He attended the Mercersburg Academy, in Mercersburg, Pennsylvania. He graduated from Washington and Jefferson College in Washington, Pennsylvania, in 1911, and from the law department of the University of Pennsylvania at Philadelphia, Pennsylvania in 1915. He was admitted to the bar in 1915 and commenced practice in Ebensburg. During the First World War, he was appointed as a second lieutenant and served with the Seventh Ammunition Train.</td><td>true</td><td>Q13219680/P69/Q7971641</td><td>true</td><td>Q13219680/P19/Q1130214 - 0.8734232516160084 - false</td></tr><tr><td>Henry D. Clayton was born in Pulaski County, Georgia. He graduated from Emory and Henry College in Virginia. He moved to Eufaula, Alabama, after graduation and read law. He passed the bar exam in 1849 and opened an office in Clayton, Alabama, where he married Victoria and raised a family. Two of his sons, Henry De Lamar Clayton, Jr. and Bertram Tracy Clayton, later became United States Congressmen.</td><td>true</td><td>Q1606664/P69/Q5373734</td><td>true</td><td>Q1606664/P19/Q498301 - 0.8129521747310612 - false Q36687/P19/Q66815 - 0.7934218012050288 - false Q66815/P26/Q828504 - 0.6280108126703894 - false</td></tr></table>"
      ]
     },
     "execution_count": 56,
     "metadata": {},
     "output_type": "execute_result"
    }
   ],
   "source": [
    "%%dataframe\n",
    "instDF"
   ]
  },
  {
   "cell_type": "markdown",
   "metadata": {
    "collapsed": true,
    "deletable": true,
    "editable": true
   },
   "source": [
    "Some of the errors is due to coreferences. So HERD has succeeded in extracting the NED:s but not for the sentence where the institution is stated.\n",
    "\n",
    "Also note that there are a lot of extractions marked false that are not necessarily false; they are extracted for a different relation - place of birth when the evaluation only looks at institution.\n",
    "This could possibly be remedied by adding filtering out "
   ]
  }
 ],
 "metadata": {
  "kernelspec": {
   "display_name": "Apache Toree - Scala",
   "language": "scala",
   "name": "apache_toree_scala"
  },
  "language_info": {
   "name": "scala",
   "version": "2.10.4"
  }
 },
 "nbformat": 4,
 "nbformat_minor": 2
}
