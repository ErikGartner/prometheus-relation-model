{
 "cells": [
  {
   "cell_type": "markdown",
   "metadata": {
    "deletable": true,
    "editable": true
   },
   "source": [
    "## Words between"
   ]
  },
  {
   "cell_type": "code",
   "execution_count": 16,
   "metadata": {
    "collapsed": false,
    "deletable": true,
    "editable": true
   },
   "outputs": [
    {
     "data": {
      "text/plain": [
       "4"
      ]
     },
     "execution_count": 16,
     "metadata": {},
     "output_type": "execute_result"
    }
   ],
   "source": [
    "val WORDS_BETWEEN_SIZE = 8\n",
    "\n",
    "val wordsBetween = \"hon gifte sig med\".split(\" \")\n",
    "def index(word: String): Seq[Double] = Seq(word.hashCode.toDouble)\n",
    "val emptyVector = Array.fill[Double](8)(0)\n",
    "val wordsBetweenVectors = wordsBetween.slice(0, WORDS_BETWEEN_SIZE).map(index).map(_.toArray)\n",
    "wordsBetweenVectors.length"
   ]
  },
  {
   "cell_type": "code",
   "execution_count": 34,
   "metadata": {
    "collapsed": false,
    "deletable": true,
    "editable": true
   },
   "outputs": [
    {
     "name": "stdout",
     "output_type": "stream",
     "text": [
      "diff: 4\n",
      "List([D@116909b6, [D@116909b6, [D@116909b6, [D@116909b6)\n"
     ]
    },
    {
     "data": {
      "text/plain": [
       "36"
      ]
     },
     "execution_count": 34,
     "metadata": {},
     "output_type": "execute_result"
    }
   ],
   "source": [
    "val emptyVector = Array.fill[Double](8)(0)\n",
    "val diff = WORDS_BETWEEN_SIZE - wordsBetween.size\n",
    "println(\"diff: \" + diff)\n",
    "val wordsPadding = Seq.fill(diff)(emptyVector)\n",
    "println(wordsPadding)\n",
    "val paddedWordsBetweenVectors = (wordsBetweenVectors ++ wordsPadding).flatten.toArray\n",
    "paddedWordsBetweenVectors.length"
   ]
  },
  {
   "cell_type": "markdown",
   "metadata": {
    "deletable": true,
    "editable": true
   },
   "source": [
    "## POS between"
   ]
  },
  {
   "cell_type": "code",
   "execution_count": 8,
   "metadata": {
    "collapsed": false,
    "deletable": true,
    "editable": true
   },
   "outputs": [],
   "source": [
    "val posBetween = \"V NB PR B\".split(\" \")\n",
    "val posBetweenVectors = posBetween.slice(0, WORDS_BETWEEN_SIZE).map(index).map(Seq(_)).map(_.toArray)\n"
   ]
  },
  {
   "cell_type": "code",
   "execution_count": 9,
   "metadata": {
    "collapsed": false
   },
   "outputs": [
    {
     "data": {
      "text/plain": [
       "Array(Array(List(86.0)), Array(List(2484.0)), Array(List(2562.0)), Array(List(66.0)))"
      ]
     },
     "execution_count": 9,
     "metadata": {},
     "output_type": "execute_result"
    }
   ],
   "source": [
    "posBetweenVectors"
   ]
  }
 ],
 "metadata": {
  "kernelspec": {
   "display_name": "Apache Toree - Scala",
   "language": "scala",
   "name": "apache_toree_scala"
  },
  "language_info": {
   "name": "scala",
   "version": "2.10.4"
  }
 },
 "nbformat": 4,
 "nbformat_minor": 2
}
