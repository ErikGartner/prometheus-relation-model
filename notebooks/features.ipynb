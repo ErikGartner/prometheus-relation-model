{
 "cells": [
  {
   "cell_type": "markdown",
   "metadata": {
    "deletable": true,
    "editable": true
   },
   "source": [
    "# Prometheus - Feature Notebook\n",
    "\n",
    "## Getting Setup with Jupyter\n",
    "\n",
    "`sbt publishM2`\n",
    "\n",
    "Repeat if the project has been updated, and also do:\n",
    "\n",
    "`rm -rf ~/.m2/repository/sonymobile`\n",
    "\n",
    "`rm -rf metastore_db`\n",
    "\n",
    "(*Important*: `kernel -> restart all` otherwise the previously used version of the promethues-relation-model lib be used again! Very confusing!) <- not sure if this is correct\n",
    "\n",
    "`prometheus-relation-model` requires [docforia](https://github.com/marcusklang/docforia), which must be git-cloned and `mvn install`:ed first (not yet on Maven repository unfortunately).\n",
    "\n",
    "## Data\n",
    "This notebooks requires the annontated herd data."
   ]
  },
  {
   "cell_type": "code",
   "execution_count": 1,
   "metadata": {
    "collapsed": false,
    "deletable": true,
    "editable": true,
    "scrolled": false
   },
   "outputs": [
    {
     "name": "stdout",
     "output_type": "stream",
     "text": [
      "Marking se.lth.cs.nlp:docforia:1.0-SNAPSHOT for download\n",
      "Preparing to fetch from:\n",
      "-> file:/var/folders/28/5mj8jbrd13z_nssxk35nd25c0000gn/T/toree_add_deps8234528462432356968/\n",
      "-> file:/Users/axel/.m2/repository\n",
      "-> https://repo1.maven.org/maven2\n",
      "-> New file at /Users/axel/.m2/repository/se/lth/cs/nlp/docforia/1.0-SNAPSHOT/docforia-1.0-SNAPSHOT.jar\n",
      "-> New file at /Users/axel/.m2/repository/com/fasterxml/jackson/core/jackson-annotations/2.7.0/jackson-annotations-2.7.0.jar\n",
      "-> New file at /Users/axel/.m2/repository/junit/junit/4.11/junit-4.11.jar\n",
      "-> New file at /Users/axel/.m2/repository/com/fasterxml/jackson/core/jackson-core/2.7.3/jackson-core-2.7.3.jar\n",
      "-> New file at /Users/axel/.m2/repository/org/hamcrest/hamcrest-core/1.3/hamcrest-core-1.3.jar\n",
      "-> New file at /Users/axel/.m2/repository/com/google/protobuf/protobuf-java/2.6.1/protobuf-java-2.6.1.jar\n",
      "-> New file at /Users/axel/.m2/repository/com/fasterxml/jackson/core/jackson-databind/2.7.3/jackson-databind-2.7.3.jar\n",
      "-> New file at /Users/axel/.m2/repository/it/unimi/dsi/fastutil/6.3/fastutil-6.3.jar\n"
     ]
    }
   ],
   "source": [
    "%AddDeps se.lth.cs.nlp docforia 1.0-SNAPSHOT --transitive --repository file:/Users/axel/.m2/repository"
   ]
  },
  {
   "cell_type": "code",
   "execution_count": 2,
   "metadata": {
    "collapsed": false,
    "deletable": true,
    "editable": true
   },
   "outputs": [],
   "source": [
    "import se.lth.cs.docforia.Document\n",
    "import java.io.IOError\n",
    "\n",
    "import org.apache.spark.rdd.RDD\n",
    "import org.apache.spark.sql.{DataFrame, SQLContext}\n",
    "import org.apache.spark.{Accumulator, SparkContext}\n",
    "import se.lth.cs.docforia.Document\n",
    "import se.lth.cs.docforia.memstore.MemoryDocumentIO\n",
    "\n",
    "def readCorpus(\n",
    "    file: String,\n",
    "    sampleSize: Double = 1.0)\n",
    "    (implicit sqlContext: SQLContext, sc: SparkContext): RDD[Document] = {\n",
    "\n",
    "    var df: DataFrame = sqlContext.read.parquet(file)\n",
    "    df = df.where(df(\"type\").equalTo(\"ARTICLE\"))\n",
    "\n",
    "    val ioErrors: Accumulator[Int] = sc.accumulator(0, \"IO_ERRORS\")\n",
    "\n",
    "    // we might need to filter for only articles here but that wouldn't be a generelized solution.\n",
    "    val docs = (if(sampleSize == 1.0) df else df.sample(false, sampleSize)).flatMap{row =>\n",
    "      try {\n",
    "        val doc: Document = MemoryDocumentIO.getInstance().fromBytes(row.getAs(5): Array[Byte])\n",
    "        List(doc)\n",
    "      } catch {\n",
    "        case e:IOError =>\n",
    "          ioErrors.add(1)\n",
    "          List()\n",
    "      }\n",
    "    }\n",
    "\n",
    "    docs\n",
    "  }"
   ]
  },
  {
   "cell_type": "code",
   "execution_count": 3,
   "metadata": {
    "collapsed": false,
    "deletable": true,
    "editable": true
   },
   "outputs": [],
   "source": [
    "val docs = readCorpus(\"../../data/wikipedia-corpus-herd/en/\")(sqlContext, sc)"
   ]
  },
  {
   "cell_type": "code",
   "execution_count": 4,
   "metadata": {
    "collapsed": false,
    "deletable": true,
    "editable": true,
    "scrolled": true
   },
   "outputs": [
    {
     "data": {
      "text/plain": [
       "21195"
      ]
     },
     "execution_count": 4,
     "metadata": {},
     "output_type": "execute_result"
    }
   ],
   "source": [
    "docs.count()"
   ]
  },
  {
   "cell_type": "markdown",
   "metadata": {
    "collapsed": true,
    "deletable": true,
    "editable": true
   },
   "source": [
    "# Dependency Features"
   ]
  },
  {
   "cell_type": "code",
   "execution_count": 5,
   "metadata": {
    "collapsed": true,
    "deletable": true,
    "editable": true
   },
   "outputs": [],
   "source": [
    "val doc = docs.take(3)(2)"
   ]
  },
  {
   "cell_type": "code",
   "execution_count": 6,
   "metadata": {
    "collapsed": false,
    "deletable": true,
    "editable": true
   },
   "outputs": [
    {
     "data": {
      "text/plain": [
       "Hamblin Bay is a bay of Lake Mead on the Colorado River, to the east of Las Vegas and Callville Bay in the U.S. state of Nevada. It lies between Sandy Cove which lies to the west and Rotary Cove and Rufus Cove which lie to the east. Hamblin Bay is also a fault of the same name in the vicinity, which \"strikes at a low angle to the easternmost mapped branch of the Las Vegas Shear Zone\".\n",
       "\n",
       "Name. It is named after Mormon missionary William Hamblin.\n",
       "\n",
       "References. Geological Survey Professional Paper. U.S. Government Printing Office. 1974. p. 3. American Mining Congress (1977). Proceedings of the First Annual William T. Pecora Memorial Symposium, October 1975, Sioux Falls, South Dakota. U.S. Government Printing Office. p. 259. Carlson, Helen S. (1 January 19..."
      ]
     },
     "execution_count": 6,
     "metadata": {},
     "output_type": "execute_result"
    }
   ],
   "source": [
    "doc"
   ]
  },
  {
   "cell_type": "code",
   "execution_count": 67,
   "metadata": {
    "collapsed": false,
    "deletable": true,
    "editable": true
   },
   "outputs": [
    {
     "name": "stdout",
     "output_type": "stream",
     "text": [
      "Output will NOT be truncated\n"
     ]
    },
    {
     "data": {
      "text/plain": [
       "List((Hamblin,0), (Bay,1), (is,2), (a,3), (bay,4), (of,5), (Lake,6), (Mead,7), (on,8), (the,9), (Colorado,10), (River,11), (,,12), (to,13), (the,14), (east,15), (of,16), (Las,17), (Vegas,18), (and,19), (Callville,20), (Bay,21), (in,22), (the,23), (U.S.,24), (state,25), (of,26), (Nevada,27), (.,28), (It,29), (lies,30), (between,31), (Sandy,32), (Cove,33), (which,34), (lies,35), (to,36), (the,37), (west,38), (and,39), (Rotary,40), (Cove,41), (and,42), (Rufus,43), (Cove,44), (which,45), (lie,46), (to,47), (the,48), (east,49), (.,50), (Hamblin,51), (Bay,52), (is,53), (also,54), (a,55), (fault,56), (of,57), (the,58), (same,59), (name,60), (in,61), (the,62), (vicinity,63), (,,64), (which,65), (\",66), (strikes,67), (at,68), (a,69), (low,70), (angle,71), (to,72), (the,73), (easternmost,74), (mapped,75), (branch,76), (of,77), (the,78), (Las,79), (Vegas,80), (Shear,81), (Zone,82), (\",83), (.,84), (Name,85), (.,86), (It,87), (is,88), (named,89), (after,90), (Mormon,91), (missionary,92), (William,93), (Hamblin,94), (.,95), (References,96), (.,97), (Geological,98), (Survey,99), (Professional,100), (Paper,101), (.,102), (U.S.,103), (Government,104), (Printing,105), (Office,106), (.,107), (1974,108), (.,109), (p.,110), (3,111), (.,112), (American,113), (Mining,114), (Congress,115), ((,116), (1977,117), (),118), (.,119), (Proceedings,120), (of,121), (the,122), (First,123), (Annual,124), (William,125), (T.,126), (Pecora,127), (Memorial,128), (Symposium,129), (,,130), (October,131), (1975,132), (,,133), (Sioux,134), (Falls,135), (,,136), (South,137), (Dakota,138), (.,139), (U.S.,140), (Government,141), (Printing,142), (Office,143), (.,144), (p.,145), (259,146), (.,147), (Carlson,148), (,,149), (Helen,150), (S.,151), ((,152), (1,153), (January,154), (1974,155), (),156), (.,157), (Nevada,158), (Place,159), (Names,160), (:,161), (A,162), (Geographical,163), (Dictionary,164), (.,165), (University,166), (of,167), (Nevada,168), (Press,169), (.,170), (p.,171), (130,172), (.,173), (ISBN,174), (978-0-87417-094-8,175), (.,176), (External,177), (links,178), (.,179), (Photograph,180), (.,181), (This,182), (Nevada,183), (state,184), (location,185), (article,186), (is,187), (a,188), (stub,189), (.,190), (You,191), (can,192), (help,193), (Wikipedia,194), (by,195), (expanding,196), (it,197), (.,198), (v.,199), (t.,200), (e.,201))"
      ]
     },
     "execution_count": 67,
     "metadata": {},
     "output_type": "execute_result"
    }
   ],
   "source": [
    "import se.lth.cs.docforia.graph.text.{Sentence, Token, DependencyRelation, Mention}\n",
    "import se.lth.cs.docforia.query.QueryCollectors\n",
    "import scala.collection.JavaConverters._\n",
    "\n",
    "val DR = DependencyRelation.`var`()\n",
    "val T = Token.`var`()\n",
    "\n",
    "val tokens = doc.nodes(classOf[Token]).asScala.toSeq.toList\n",
    "%Truncation off\n",
    "tokens.zipWithIndex"
   ]
  },
  {
   "cell_type": "markdown",
   "metadata": {
    "deletable": true,
    "editable": true
   },
   "source": [
    "## Lemma-zation"
   ]
  },
  {
   "cell_type": "code",
   "execution_count": 68,
   "metadata": {
    "collapsed": false,
    "deletable": true,
    "editable": true
   },
   "outputs": [
    {
     "data": {
      "text/plain": [
       "List(Hamblin, Bay, be, a, bay, of, Lake, Mead, on, the, Colorado, River, ,, to, the, east, of, Las, Vegas, and, Callville, Bay, in, the, U.S., state, of, Nevada, ., it, lie, between, Sandy, Cove, which, lie, to, the, west, and, rotary, cove, and, Rufus, Cove, which, lie, to, the, east, ., Hamblin, Bay, be, also, a, fault, of, the, same, name, in, the, vicinity, ,, which, ``, strike, at, a, low, angle, to, the, easternmost, map, branch, of, the, Las, Vegas, Shear, Zone, '', ., name, ., it, be, name, after, Mormon, missionary, William, Hamblin, ., reference, ., Geological, Survey, Professional, Paper, ., U.S., Government, Printing, Office, ., 1974, ., p., 3, ., american, mining, Congress, -lrb-, 1977, -rrb-, ., Proceedings, of, the, First, annual, William, T., Pecora, Memorial, Symposium, ,, October, 1975, ,, Sioux, Falls, ,, South, Dakota, ., U.S., Government, Printing, Office, ., p., 259, ., Carlson, ,, Helen, S., -lrb-, 1, January, 1974, -rrb-, ., Nevada, Place, Names, :, a, geographical, Dictionary, ., University, of, Nevada, Press, ., p., 130, ., ISBN, 978-0-87417-094-8, ., external, link, ., Photograph, ., this, Nevada, state, location, article, be, a, stub, ., you, can, help, Wikipedia, by, expand, it, ., v., t., e.)"
      ]
     },
     "execution_count": 68,
     "metadata": {},
     "output_type": "execute_result"
    }
   ],
   "source": [
    "tokens.map(_.getLemma)"
   ]
  },
  {
   "cell_type": "markdown",
   "metadata": {
    "deletable": true,
    "editable": true
   },
   "source": [
    "## Dependency Path"
   ]
  },
  {
   "cell_type": "code",
   "execution_count": 61,
   "metadata": {
    "collapsed": false,
    "deletable": true,
    "editable": true
   },
   "outputs": [],
   "source": [
    "val deps = tokens(0).connectedEdges(classOf[DependencyRelation]).toList.asScala"
   ]
  },
  {
   "cell_type": "code",
   "execution_count": 62,
   "metadata": {
    "collapsed": false,
    "deletable": true,
    "editable": true
   },
   "outputs": [
    {
     "data": {
      "text/plain": [
       "ArrayBuffer(Hamblin -- compound --> Bay)"
      ]
     },
     "execution_count": 62,
     "metadata": {},
     "output_type": "execute_result"
    }
   ],
   "source": [
    "deps.map(d => s\"${d.getTail} -- ${d.getRelation} --> ${d.getHead}\")"
   ]
  },
  {
   "cell_type": "code",
   "execution_count": 69,
   "metadata": {
    "collapsed": false,
    "deletable": true,
    "editable": true
   },
   "outputs": [
    {
     "data": {
      "text/plain": [
       "(Bay,Vegas)"
      ]
     },
     "execution_count": 69,
     "metadata": {},
     "output_type": "execute_result"
    }
   ],
   "source": [
    "// Create a dependency path between these two entities.\n",
    "val ent1 = tokens(52)\n",
    "val ent2 = tokens(80)\n",
    "(ent1, ent2)"
   ]
  },
  {
   "cell_type": "code",
   "execution_count": 70,
   "metadata": {
    "collapsed": false,
    "deletable": true,
    "editable": true
   },
   "outputs": [
    {
     "data": {
      "text/plain": [
       "ArrayBuffer(Bay -- nsubj --> fault, fault <-- nmod -- name, name <-- acl:relcl -- strikes, strikes <-- nmod -- angle, angle <-- nmod -- branch, branch <-- nmod -- Zone, Vegas -- compound --> Zone)"
      ]
     },
     "execution_count": 70,
     "metadata": {},
     "output_type": "execute_result"
    }
   ],
   "source": [
    "import scala.collection.mutable\n",
    "\n",
    "def dfs(current: Token, visited: Set[Token], chain: Seq[DependencyRelation], target: Token): Seq[DependencyRelation] = {\n",
    "    if(current == target) {\n",
    "        chain\n",
    "    }else if(visited.contains(current)){\n",
    "        Seq()\n",
    "    }else{\n",
    "        val deps = current.connectedEdges(classOf[DependencyRelation]).toList.asScala\n",
    "        val newVisited = visited + current\n",
    "        deps.flatMap(d => {\n",
    "            dfs(d.getHead[Token], newVisited, chain :+ d, target) ++ dfs(d.getTail[Token], newVisited, chain :+ d, target)\n",
    "        })\n",
    "    }      \n",
    "}\n",
    "val path = dfs(ent1, Set(), Seq(), ent2)\n",
    "path.map(d => (d, d.getHead[Token].getStart < d.getTail[Token].getStart)).map{\n",
    "    case (d, dir) => \n",
    "        if (dir) s\"${d.getHead} <-- ${d.getRelation} -- ${d.getTail}\" else s\"${d.getTail} -- ${d.getRelation} --> ${d.getHead}\" \n",
    "}"
   ]
  },
  {
   "cell_type": "markdown",
   "metadata": {
    "deletable": true,
    "editable": true
   },
   "source": [
    "## Dependency Window\n",
    "Gets all tokens connected to an entity through a dependency relation that isn't included in the dependency path."
   ]
  },
  {
   "cell_type": "code",
   "execution_count": 71,
   "metadata": {
    "collapsed": false,
    "deletable": true,
    "editable": true
   },
   "outputs": [
    {
     "data": {
      "text/plain": [
       "Set(Vegas, Bay, name, branch, Zone, strikes, fault, angle)"
      ]
     },
     "execution_count": 71,
     "metadata": {},
     "output_type": "execute_result"
    }
   ],
   "source": [
    "val visited = path.flatMap(p => {Seq(p.getHead[Token], p.getTail[Token])}).toSet\n",
    "visited"
   ]
  },
  {
   "cell_type": "code",
   "execution_count": 81,
   "metadata": {
    "collapsed": false,
    "deletable": true,
    "editable": true
   },
   "outputs": [
    {
     "data": {
      "text/plain": [
       "Set(Hamblin -- compound --> Bay)"
      ]
     },
     "execution_count": 81,
     "metadata": {},
     "output_type": "execute_result"
    }
   ],
   "source": [
    "def entityWindow(entity: Token, dependencyPath: Seq[DependencyRelation]): Set[DependencyRelation] = {\n",
    "    val excluded: Set[Token] = dependencyPath.flatMap(p => {Seq(p.getHead[Token], p.getTail[Token])}).toSet\n",
    "    entity.connectedEdges(classOf[DependencyRelation]).toList.asScala.filter(d => {\n",
    "     (!excluded.contains(d.getTail[Token]) || !excluded.contains(d.getHead[Token]))\n",
    "    }).toSet\n",
    "}\n",
    "\n",
    "val window = entityWindow(ent1, path)\n",
    "window.map(d => (d, d.getHead[Token].getStart < d.getTail[Token].getStart)).map{\n",
    "    case (d, dir) => \n",
    "        if (dir) s\"${d.getHead} <-- ${d.getRelation} -- ${d.getTail}\" else s\"${d.getTail} -- ${d.getRelation} --> ${d.getHead}\" \n",
    "}"
   ]
  },
  {
   "cell_type": "markdown",
   "metadata": {
    "deletable": true,
    "editable": true
   },
   "source": [
    "## NE tag"
   ]
  },
  {
   "cell_type": "code",
   "execution_count": 17,
   "metadata": {
    "collapsed": false,
    "deletable": true,
    "editable": true
   },
   "outputs": [
    {
     "data": {
      "text/plain": [
       "List(Sandór Mahunka, Microtegeus, Microtegeidae, Catalogue of Life, PDF, Catalogue of Life, spindeldjur)"
      ]
     },
     "execution_count": 17,
     "metadata": {},
     "output_type": "execute_result"
    }
   ],
   "source": [
    "import se.lth.cs.docforia.graph.disambig.NamedEntityDisambiguation\n",
    "import se.lth.cs.docforia.graph.text.{NamedEntity}\n",
    "val neds = doc.nodes(classOf[NamedEntityDisambiguation]).asScala.toSeq.toList\n",
    "neds"
   ]
  },
  {
   "cell_type": "code",
   "execution_count": null,
   "metadata": {
    "collapsed": false,
    "deletable": true,
    "editable": true
   },
   "outputs": [],
   "source": []
  },
  {
   "cell_type": "code",
   "execution_count": 13,
   "metadata": {
    "collapsed": false,
    "deletable": true,
    "editable": true
   },
   "outputs": [],
   "source": [
    "val N = NamedEntity.`var`()\n",
    "val ned = doc.select(N).where(N).coveredBy(tokens(0))\n"
   ]
  },
  {
   "cell_type": "markdown",
   "metadata": {
    "deletable": true,
    "editable": true
   },
   "source": [
    "## Huvudverbet"
   ]
  },
  {
   "cell_type": "code",
   "execution_count": null,
   "metadata": {
    "collapsed": true,
    "deletable": true,
    "editable": true
   },
   "outputs": [],
   "source": []
  },
  {
   "cell_type": "markdown",
   "metadata": {
    "deletable": true,
    "editable": true
   },
   "source": [
    "## Chunking"
   ]
  },
  {
   "cell_type": "code",
   "execution_count": 38,
   "metadata": {
    "collapsed": false,
    "deletable": true,
    "editable": true
   },
   "outputs": [
    {
     "data": {
      "text/plain": [
       "List(Microtegeus, rugosus, är, en, kvalsterart, som, beskrevs, av, Sandór Mahunka, 1982, ., Microtegeus, rugosus, ingår, i, släktet, Microtegeus, och, familjen, Microtegeidae, ., Inga, underarter, finns, listade, i, Catalogue of Life, ., Källor, ., (, 2007, ), ,, PDF, ,, Subías, 2007, :, World, Oribatida, catalog, ., Bisby, F, ., A, ., ,, Roskov, Y, ., R, ., ,, Orrell, T, ., M, ., ,, Nicolson, D, ., ,, Paglinawan, L, ., E, ., ,, Bailly, N, ., ,, Kirk, P, ., M, ., ,, Bourgoin, T, ., ,, Baillargeon, G, ., ,, Ouvrard, D, ., (, red, ., ), (, 1, mars, ), ., ”, Species, 2000, &, ITIS, Catalogue of Life, :, 2011, Annual, Checklist, ., ”, ., Species, 2000, :, Reading, ,, UK, ., http://www.catalogueoflife.org/annual-checklist/2011/search/all/key..."
      ]
     },
     "execution_count": 38,
     "metadata": {},
     "output_type": "execute_result"
    }
   ],
   "source": [
    "val groups = docs.map(doc => {\n",
    "    val NED = NamedEntityDisambiguation.`var`()\n",
    "    val T = Token.`var`()\n",
    "    val nedGroups = doc.select(NED, T).where(T).coveredBy(NED)\n",
    "    .stream()\n",
    "    .collect(QueryCollectors.groupBy(doc, NED).values(T).collector())\n",
    "    .asScala\n",
    "    .toList\n",
    "    \n",
    "    nedGroups.map(pg => {\n",
    "        pg.key(NED).getIdentifier\n",
    "        pg.value(0, T).text\n",
    "        val values = pg.nodes(T).asScala\n",
    "        if(values.size > 1){\n",
    "            val head = values.head\n",
    "            val last = values.last\n",
    "            head.setRange(head.getStart, last.getEnd)\n",
    "            values.tail.foreach(doc.remove)\n",
    "        }\n",
    "    })\n",
    "    doc\n",
    "}).take(1)\n",
    "groups(0).nodes(classOf[Token]).asScala.toSeq.toList"
   ]
  },
  {
   "cell_type": "code",
   "execution_count": 1,
   "metadata": {
    "collapsed": true,
    "deletable": true,
    "editable": true
   },
   "outputs": [],
   "source": [
    "case class DependencyPath(dependency: String, word: String, direction: java.lang.Boolean)\n",
    "\n",
    "case class TrainingDataPoint(\n",
    "  relationId: String,\n",
    "  relationName: String,\n",
    "  relationClass: Long,\n",
    "  pointType: String,\n",
    "  wordFeatures: Seq[String],\n",
    "  posFeatures: Seq[String],\n",
    "  wordsBetween: Seq[String],\n",
    "  posBetween: Seq[String],\n",
    "  ent1PosTags: Seq[String],\n",
    "  ent2PosTags: Seq[String],\n",
    "  ent1Type: String,\n",
    "  ent2Type: String,\n",
    "  dependencyPath: Seq[DependencyPath],\n",
    "  ent1DepWindow: Seq[DependencyPath],\n",
    "  ent2DepWindow: Seq[DependencyPath])"
   ]
  },
  {
   "cell_type": "code",
   "execution_count": null,
   "metadata": {
    "collapsed": true,
    "deletable": true,
    "editable": true
   },
   "outputs": [],
   "source": [
    "val file = \"/Users/axel/utveckling/prometheus/data/wip/relation_model/sv/training_sentences/part-r-00207-4e1f6240-21e9-407f-b1ff-dcc30efd740c.gz.parquet\"\n"
   ]
  },
  {
   "cell_type": "markdown",
   "metadata": {
    "collapsed": true,
    "deletable": true,
    "editable": true
   },
   "source": [
    "## Coref Resolution"
   ]
  },
  {
   "cell_type": "code",
   "execution_count": 2,
   "metadata": {
    "collapsed": false,
    "deletable": true,
    "editable": true
   },
   "outputs": [
    {
     "name": "stdout",
     "output_type": "stream",
     "text": [
      "Marking org.scalaj:scalaj-http_2.10:2.3.0 for download\n",
      "Preparing to fetch from:\n",
      "-> file:/var/folders/28/5mj8jbrd13z_nssxk35nd25c0000gn/T/toree_add_deps8234528462432356968/\n",
      "-> https://repo1.maven.org/maven2\n",
      "-> New file at /var/folders/28/5mj8jbrd13z_nssxk35nd25c0000gn/T/toree_add_deps8234528462432356968/https/repo1.maven.org/maven2/org/scalaj/scalaj-http_2.10/2.3.0/scalaj-http_2.10-2.3.0.jar\n",
      "Marking se.lth.cs.nlp:docforia:1.0-SNAPSHOT for download\n",
      "Preparing to fetch from:\n",
      "-> file:/var/folders/28/5mj8jbrd13z_nssxk35nd25c0000gn/T/toree_add_deps8234528462432356968/\n",
      "-> file:/Users/axel/.m2/repository\n",
      "-> https://repo1.maven.org/maven2\n",
      "-> New file at /Users/axel/.m2/repository/se/lth/cs/nlp/docforia/1.0-SNAPSHOT/docforia-1.0-SNAPSHOT.jar\n",
      "-> New file at /Users/axel/.m2/repository/com/fasterxml/jackson/core/jackson-annotations/2.7.0/jackson-annotations-2.7.0.jar\n",
      "-> New file at /Users/axel/.m2/repository/com/fasterxml/jackson/core/jackson-databind/2.7.3/jackson-databind-2.7.3.jar\n",
      "-> New file at /Users/axel/.m2/repository/junit/junit/4.11/junit-4.11.jar\n",
      "-> New file at /Users/axel/.m2/repository/org/hamcrest/hamcrest-core/1.3/hamcrest-core-1.3.jar\n",
      "-> New file at /Users/axel/.m2/repository/com/fasterxml/jackson/core/jackson-core/2.7.3/jackson-core-2.7.3.jar\n",
      "-> New file at /Users/axel/.m2/repository/com/google/protobuf/protobuf-java/2.6.1/protobuf-java-2.6.1.jar\n",
      "-> New file at /Users/axel/.m2/repository/it/unimi/dsi/fastutil/6.3/fastutil-6.3.jar\n"
     ]
    }
   ],
   "source": [
    "%AddDeps org.scalaj scalaj-http_2.10 2.3.0 --transitive\n",
    "%AddDeps se.lth.cs.nlp docforia 1.0-SNAPSHOT --transitive --repository file:/Users/axel/.m2/repository\n",
    "import scalaj.http._\n",
    "import se.lth.cs.docforia.Document\n",
    "import se.lth.cs.docforia.memstore.MemoryDocument\n",
    "import se.lth.cs.docforia.graph.disambig.NamedEntityDisambiguation\n",
    "import se.lth.cs.docforia.graph.text.{CoreferenceChainEdge, CoreferenceChain, CoreferenceMention, NamedEntity, Sentence, Token}\n",
    "import se.lth.cs.docforia.memstore.MemoryDocumentIO\n",
    "import se.lth.cs.docforia.query.{QueryCollectors, StreamUtils}\n",
    "import scala.collection.JavaConverters._"
   ]
  },
  {
   "cell_type": "code",
   "execution_count": 3,
   "metadata": {
    "collapsed": false,
    "deletable": true,
    "editable": true
   },
   "outputs": [],
   "source": [
    "def annotate(input: String, lang: String, conf: String): Either[String, Document] = {\n",
    "    val CONNECTION_TIMEOUT = 2000\n",
    "    val READ_TIMEOUT = 10000\n",
    "    val vildeURL = s\"http://vilde.cs.lth.se:9000/$lang/$conf/api/json\"\n",
    "    try {\n",
    "      val response: HttpResponse[String] = Http(vildeURL)\n",
    "        .timeout(connTimeoutMs = CONNECTION_TIMEOUT, readTimeoutMs = READ_TIMEOUT)\n",
    "        .postData(input)\n",
    "        .header(\"content-type\", \"application/json; charset=UTF-8\")\n",
    "        .asString\n",
    "\n",
    "      val docJson = response.body\n",
    "      Right(MemoryDocumentIO.getInstance().fromJson(docJson))\n",
    "    } catch {\n",
    "      case e: java.net.SocketTimeoutException => Left(e.getMessage)\n",
    "    }\n",
    "  }"
   ]
  },
  {
   "cell_type": "code",
   "execution_count": 3,
   "metadata": {
    "collapsed": false,
    "deletable": true,
    "editable": true
   },
   "outputs": [],
   "source": [
    "def resolveCoref(doc: Document): Document = {\n",
    "    val T = Token.`var`()\n",
    "    val M = CoreferenceMention.`var`()\n",
    "    val NED = NamedEntityDisambiguation.`var`()\n",
    "\n",
    "    val chains = doc.select(T, M, NED).where(T).coveredBy(M).where(NED).coveredBy(M)\n",
    "      .stream()\n",
    "      .collect(QueryCollectors.groupBy(doc, M, NED).values(T).collector())\n",
    "      .asScala\n",
    "      .map(pg => {\n",
    "        val mention = pg.key(M)\n",
    "        val corefs = mention\n",
    "          .connectedEdges(classOf[CoreferenceChainEdge]).asScala\n",
    "          .flatMap(edge => edge.getHead[CoreferenceChain].connectedNodes(classOf[CoreferenceMention]).asScala)\n",
    "\n",
    "        val ned = pg.key(NED)\n",
    "        val mentions = corefs.filter(m => m.getProperty(\"mention-type\") != \"PROPER\").map(m => {\n",
    "          val newNed = new NamedEntityDisambiguation(doc)\n",
    "            .setRange(m.getStart, m.getEnd)\n",
    "            .setIdentifier(ned.getIdentifier)\n",
    "            .setScore(ned.getScore)\n",
    "            if (ned.hasProperty(\"LABEL\"))\n",
    "                newNed.putProperty(\"LABEL\", ned.getProperty(\"LABEL\"))\n",
    "          m\n",
    "        })\n",
    "          \n",
    "        println(s\"$ned -> $mentions\")\n",
    "        println(\"*\"*20)\n",
    "        (ned, mentions)\n",
    "      })\n",
    "      .toList\n",
    "      // println(chains.mkString(\" \"))\n",
    "    \n",
    "    // Print all the NED:s in the doc to check that it worked\n",
    "    doc.select(T, NED).where(T).coveredBy(NED)\n",
    "        .stream()\n",
    "        .collect(QueryCollectors.groupBy(doc, NED).values(T).collector())\n",
    "        .asScala\n",
    "        .foreach(pg => {\n",
    "            val ned = pg.key(NED)\n",
    "            println(s\"ned: $ned ${ned.getIdentifier}\")\n",
    "        })\n",
    "\n",
    "    doc\n",
    "}"
   ]
  },
  {
   "cell_type": "code",
   "execution_count": 4,
   "metadata": {
    "collapsed": false,
    "deletable": true,
    "editable": true
   },
   "outputs": [
    {
     "name": "stdout",
     "output_type": "stream",
     "text": [
      "Barack Obama -> List(He, He)\n",
      "********************\n",
      "ned: Barack Obama urn:wikidata:Q76\n",
      "ned: Michelle urn:wikidata:Q13133\n",
      "ned: He urn:wikidata:Q76\n",
      "ned: He urn:wikidata:Q76\n"
     ]
    }
   ],
   "source": [
    "val str = \"Barack Obama was a detective married to Michelle. He became the president. He was elected by the majority of the people.\"\n",
    "val annDoc = annotate(str, \"en\", \"herd\")\n",
    "annDoc match {\n",
    "    case Right(doc) => {\n",
    "        val resolvedDoc = resolveCoref(doc)\n",
    "    }\n",
    "    case Left(e) => println(s\"error $e\")\n",
    "}"
   ]
  }
 ],
 "metadata": {
  "kernelspec": {
   "display_name": "Apache Toree - Scala",
   "language": "scala",
   "name": "apache_toree_scala"
  },
  "language_info": {
   "name": "scala",
   "version": "2.10.4"
  }
 },
 "nbformat": 4,
 "nbformat_minor": 2
}
