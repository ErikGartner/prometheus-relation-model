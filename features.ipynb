{
 "cells": [
  {
   "cell_type": "markdown",
   "metadata": {
    "deletable": true,
    "editable": true
   },
   "source": [
    "# Prometheus - Feature Notebook\n",
    "\n",
    "## Getting Setup with Jupyter\n",
    "\n",
    "`sbt publishM2`\n",
    "\n",
    "Repeat if the project has been updated, and also do:\n",
    "\n",
    "`rm -rf ~/.m2/repository/sonymobile`\n",
    "\n",
    "`rm -rf metastore_db`\n",
    "\n",
    "(*Important*: `kernel -> restart all` otherwise the previously used version of the promethues-relation-model lib be used again! Very confusing!) <- not sure if this is correct\n",
    "\n",
    "`prometheus-relation-model` requires [docforia](https://github.com/marcusklang/docforia), which must be git-cloned and `mvn install`:ed first (not yet on Maven repository unfortunately).\n",
    "\n",
    "## Data\n",
    "This notebooks requires the annontated herd data."
   ]
  },
  {
   "cell_type": "code",
   "execution_count": 1,
   "metadata": {
    "collapsed": false,
    "deletable": true,
    "editable": true,
    "scrolled": false
   },
   "outputs": [
    {
     "name": "stdout",
     "output_type": "stream",
     "text": [
      "Marking se.lth.cs.nlp:docforia:1.0-SNAPSHOT for download\n",
      "Preparing to fetch from:\n",
      "-> file:/var/folders/x9/cvvmdcld0szc31byy1ns_vfr0000gn/T/toree_add_deps2145311932042217219/\n",
      "-> file:/Users/erik/.m2/repository\n",
      "-> https://repo1.maven.org/maven2\n",
      "-> New file at /Users/erik/.m2/repository/se/lth/cs/nlp/docforia/1.0-SNAPSHOT/docforia-1.0-SNAPSHOT.jar\n",
      "-> New file at /Users/erik/.m2/repository/com/fasterxml/jackson/core/jackson-annotations/2.7.0/jackson-annotations-2.7.0.jar\n",
      "-> New file at /Users/erik/.m2/repository/junit/junit/4.11/junit-4.11.jar\n",
      "-> New file at /Users/erik/.m2/repository/org/hamcrest/hamcrest-core/1.3/hamcrest-core-1.3.jar\n",
      "-> New file at /Users/erik/.m2/repository/com/fasterxml/jackson/core/jackson-core/2.7.3/jackson-core-2.7.3.jar\n",
      "-> New file at /Users/erik/.m2/repository/com/google/protobuf/protobuf-java/2.6.1/protobuf-java-2.6.1.jar\n",
      "-> New file at /Users/erik/.m2/repository/com/fasterxml/jackson/core/jackson-databind/2.7.3/jackson-databind-2.7.3.jar\n",
      "-> New file at /Users/erik/.m2/repository/it/unimi/dsi/fastutil/6.3/fastutil-6.3.jar\n"
     ]
    }
   ],
   "source": [
    "%AddDeps se.lth.cs.nlp docforia 1.0-SNAPSHOT --transitive --repository file:/Users/erik/.m2/repository"
   ]
  },
  {
   "cell_type": "code",
   "execution_count": 2,
   "metadata": {
    "collapsed": false,
    "deletable": true,
    "editable": true
   },
   "outputs": [],
   "source": [
    "import se.lth.cs.docforia.Document\n",
    "import java.io.IOError\n",
    "\n",
    "import org.apache.spark.rdd.RDD\n",
    "import org.apache.spark.sql.{DataFrame, SQLContext}\n",
    "import org.apache.spark.{Accumulator, SparkContext}\n",
    "import se.lth.cs.docforia.Document\n",
    "import se.lth.cs.docforia.memstore.MemoryDocumentIO\n",
    "\n",
    "def readCorpus(\n",
    "    file: String,\n",
    "    sampleSize: Double = 1.0)\n",
    "    (implicit sqlContext: SQLContext, sc: SparkContext): RDD[Document] = {\n",
    "\n",
    "    var df: DataFrame = sqlContext.read.parquet(file)\n",
    "    df = df.where(df(\"type\").equalTo(\"ARTICLE\"))\n",
    "\n",
    "    val ioErrors: Accumulator[Int] = sc.accumulator(0, \"IO_ERRORS\")\n",
    "\n",
    "    // we might need to filter for only articles here but that wouldn't be a generelized solution.\n",
    "    val docs = (if(sampleSize == 1.0) df else df.sample(false, sampleSize)).flatMap{row =>\n",
    "      try {\n",
    "        val doc: Document = MemoryDocumentIO.getInstance().fromBytes(row.getAs(5): Array[Byte])\n",
    "        List(doc)\n",
    "      } catch {\n",
    "        case e:IOError =>\n",
    "          ioErrors.add(1)\n",
    "          List()\n",
    "      }\n",
    "    }\n",
    "\n",
    "    docs\n",
    "  }"
   ]
  },
  {
   "cell_type": "code",
   "execution_count": 3,
   "metadata": {
    "collapsed": false,
    "deletable": true,
    "editable": true
   },
   "outputs": [],
   "source": [
    "val docs = readCorpus(\"../../data/wikipedia-corpus-herd/sv/\")(sqlContext, sc)"
   ]
  },
  {
   "cell_type": "code",
   "execution_count": 4,
   "metadata": {
    "collapsed": false,
    "deletable": true,
    "editable": true,
    "scrolled": true
   },
   "outputs": [
    {
     "data": {
      "text/plain": [
       "6205"
      ]
     },
     "execution_count": 4,
     "metadata": {},
     "output_type": "execute_result"
    }
   ],
   "source": [
    "docs.count()"
   ]
  },
  {
   "cell_type": "markdown",
   "metadata": {
    "collapsed": true
   },
   "source": [
    "# Dependency Features"
   ]
  },
  {
   "cell_type": "code",
   "execution_count": 5,
   "metadata": {
    "collapsed": true
   },
   "outputs": [],
   "source": [
    "val doc = docs.take(1)(0)"
   ]
  },
  {
   "cell_type": "code",
   "execution_count": 6,
   "metadata": {
    "collapsed": false
   },
   "outputs": [
    {
     "data": {
      "text/plain": [
       "Microtegeus rugosus är en kvalsterart som beskrevs av Sandór Mahunka 1982. Microtegeus rugosus ingår i släktet Microtegeus och familjen Microtegeidae. Inga underarter finns listade i Catalogue of Life.\n",
       "\n",
       "Källor. (2007) , PDF, Subías 2007: World Oribatida catalog. Bisby F.A., Roskov Y.R., Orrell T.M., Nicolson D., Paglinawan L.E., Bailly N., Kirk P.M., Bourgoin T., Baillargeon G., Ouvrard D. (red.) (1 mars). ”Species 2000 & ITIS Catalogue of Life: 2011 Annual Checklist.”. Species 2000: Reading, UK. http://www.catalogueoflife.org/annual-checklist/2011/search/all/key/microtegeus+rugosus/match/1. Läst 24 september. ITIS: The Integrated Taxonomic Information System. Orrell T. (custodian), 2011-04-26.\n",
       "\n",
       "Externa länkar. Wikispecies har information om Microteg..."
      ]
     },
     "execution_count": 6,
     "metadata": {},
     "output_type": "execute_result"
    }
   ],
   "source": [
    "doc"
   ]
  },
  {
   "cell_type": "code",
   "execution_count": 7,
   "metadata": {
    "collapsed": false
   },
   "outputs": [
    {
     "data": {
      "text/plain": [
       "List(Microtegeus, rugosus, är, en, kvalsterart, som, beskrevs, av, Sandór, Mahunka, 1982, ., Microtegeus, rugosus, ingår, i, släktet, Microtegeus, och, familjen, Microtegeidae, ., Inga, underarter, finns, listade, i, Catalogue, of, Life, ., Källor, ., (, 2007, ), ,, PDF, ,, Subías, 2007, :, World, Oribatida, catalog, ., Bisby, F, ., A, ., ,, Roskov, Y, ., R, ., ,, Orrell, T, ., M, ., ,, Nicolson, D, ., ,, Paglinawan, L, ., E, ., ,, Bailly, N, ., ,, Kirk, P, ., M, ., ,, Bourgoin, T, ., ,, Baillargeon, G, ., ,, Ouvrard, D, ., (, red, ., ), (, 1, mars, ), ., ”, Species, 2000, &, ITIS, Catalogue, of, Life, :, 2011, Annual, Checklist, ., ”, ., Species, 2000, :, Reading, ,, UK, ., http://www.catalogueoflife.org/annual-checklist/2011/search/all..."
      ]
     },
     "execution_count": 7,
     "metadata": {},
     "output_type": "execute_result"
    }
   ],
   "source": [
    "import se.lth.cs.docforia.graph.text.{Sentence, Token, DependencyRelation, Mention}\n",
    "import se.lth.cs.docforia.query.QueryCollectors\n",
    "import scala.collection.JavaConverters._\n",
    "\n",
    "val DR = DependencyRelation.`var`()\n",
    "val T = Token.`var`()\n",
    "\n",
    "val tokens = doc.nodes(classOf[Token]).asScala.toSeq.toList\n",
    "tokens"
   ]
  },
  {
   "cell_type": "markdown",
   "metadata": {},
   "source": [
    "## Lemma-zation"
   ]
  },
  {
   "cell_type": "code",
   "execution_count": 39,
   "metadata": {
    "collapsed": false
   },
   "outputs": [
    {
     "data": {
      "text/plain": [
       "List(microtegeus, rugosus, vara, en, kvalsterart, som, beskriva, av, Sandór, Mahunka, 1982, ., microtegeus, rugosus, ingå, i, släkte, Microtegeus, och, familj, Microtegeidae, ., ingen, underart, finnas, lista, i, catalogue, of, life, ., källa, ., (, 2007, ), ,, pdf, ,, Subías, 2007, :, World, Oribatida, catalog, ., Bisby, F, ., a, ., ,, roskov, y, ., r, ., ,, Orrell, T, ., m, ., ,, Nicolson, D, ., ,, Paglinawan, L, ., e, ., ,, Bailly, N, ., ,, Kirk, P, ., m, ., ,, bourgoin, t, ., ,, Baillargeon, G, ., ,, Ouvrard, D, ., (, rida, ., ), (, 1:a, mars, ), ., ”, specie, 2000, &, itis, catalogue, of, life, :, 2011, annual, Checklist, ., ”, ., species, 2000, :, reading, ,, uk, ., http://www.catalogueoflife.org/annual-checklist/2011/search/all/key/microtegeus+rugosus/match/..."
      ]
     },
     "execution_count": 39,
     "metadata": {},
     "output_type": "execute_result"
    }
   ],
   "source": [
    "tokens.map(_.getLemma)"
   ]
  },
  {
   "cell_type": "code",
   "execution_count": 8,
   "metadata": {
    "collapsed": false
   },
   "outputs": [],
   "source": [
    "val deps = tokens(1).connectedEdges(classOf[DependencyRelation]).toList.asScala"
   ]
  },
  {
   "cell_type": "code",
   "execution_count": 9,
   "metadata": {
    "collapsed": false
   },
   "outputs": [
    {
     "data": {
      "text/plain": [
       "ArrayBuffer(Microtegeus -- DT --> rugosus, rugosus -- SS --> är)"
      ]
     },
     "execution_count": 9,
     "metadata": {},
     "output_type": "execute_result"
    }
   ],
   "source": [
    "deps.map(d => s\"${d.getTail} -- ${d.getRelation} --> ${d.getHead}\")"
   ]
  },
  {
   "cell_type": "code",
   "execution_count": 10,
   "metadata": {
    "collapsed": true
   },
   "outputs": [],
   "source": [
    "// Create a dependency path between these two entities.\n",
    "val ent1 = tokens(0)\n",
    "val ent2 = tokens(8)"
   ]
  },
  {
   "cell_type": "code",
   "execution_count": 11,
   "metadata": {
    "collapsed": false
   },
   "outputs": [
    {
     "data": {
      "text/plain": [
       "ArrayBuffer(av <-- PA -- Sandór, beskrevs <-- AG -- av, kvalsterart <-- ET -- beskrevs, är <-- SP -- kvalsterart, rugosus -- SS --> är, Microtegeus -- DT --> rugosus)"
      ]
     },
     "execution_count": 11,
     "metadata": {},
     "output_type": "execute_result"
    }
   ],
   "source": [
    "import scala.collection.mutable\n",
    "\n",
    "def dfs(current: Token, visited: Set[Token], chain: Seq[DependencyRelation], target: Token): Seq[DependencyRelation] = {\n",
    "    if(current == target) {\n",
    "        chain\n",
    "    }else if(visited.contains(current)){\n",
    "        Seq()\n",
    "    }else{\n",
    "        val deps = current.connectedEdges(classOf[DependencyRelation]).toList.asScala\n",
    "        val newVisited = visited + current\n",
    "        deps.flatMap(d => {\n",
    "            dfs(d.getHead[Token], newVisited, chain :+ d, target) ++ dfs(d.getTail[Token], newVisited, chain :+ d, target)\n",
    "        })\n",
    "    }      \n",
    "}\n",
    "val path = dfs(ent2, Set(), Seq(), ent1)\n",
    "path.map(d => (d, d.getHead[Token].getStart < d.getTail[Token].getStart)).map{\n",
    "    case (d, dir) => \n",
    "        if (dir) s\"${d.getHead} <-- ${d.getRelation} -- ${d.getTail}\" else s\"${d.getTail} -- ${d.getRelation} --> ${d.getHead}\" \n",
    "}"
   ]
  },
  {
   "cell_type": "markdown",
   "metadata": {},
   "source": [
    "## NE tag"
   ]
  },
  {
   "cell_type": "code",
   "execution_count": 17,
   "metadata": {
    "collapsed": false
   },
   "outputs": [
    {
     "data": {
      "text/plain": [
       "List(Sandór Mahunka, Microtegeus, Microtegeidae, Catalogue of Life, PDF, Catalogue of Life, spindeldjur)"
      ]
     },
     "execution_count": 17,
     "metadata": {},
     "output_type": "execute_result"
    }
   ],
   "source": [
    "import se.lth.cs.docforia.graph.disambig.NamedEntityDisambiguation\n",
    "import se.lth.cs.docforia.graph.text.{NamedEntity}\n",
    "val neds = doc.nodes(classOf[NamedEntityDisambiguation]).asScala.toSeq.toList\n",
    "neds"
   ]
  },
  {
   "cell_type": "code",
   "execution_count": null,
   "metadata": {
    "collapsed": false
   },
   "outputs": [],
   "source": []
  },
  {
   "cell_type": "code",
   "execution_count": 13,
   "metadata": {
    "collapsed": false
   },
   "outputs": [],
   "source": [
    "val N = NamedEntity.`var`()\n",
    "val ned = doc.select(N).where(N).coveredBy(tokens(0))\n"
   ]
  },
  {
   "cell_type": "markdown",
   "metadata": {},
   "source": [
    "## Huvudverbet"
   ]
  },
  {
   "cell_type": "code",
   "execution_count": null,
   "metadata": {
    "collapsed": true
   },
   "outputs": [],
   "source": []
  },
  {
   "cell_type": "markdown",
   "metadata": {},
   "source": [
    "## Chunking"
   ]
  },
  {
   "cell_type": "code",
   "execution_count": 38,
   "metadata": {
    "collapsed": false
   },
   "outputs": [
    {
     "data": {
      "text/plain": [
       "List(Microtegeus, rugosus, är, en, kvalsterart, som, beskrevs, av, Sandór Mahunka, 1982, ., Microtegeus, rugosus, ingår, i, släktet, Microtegeus, och, familjen, Microtegeidae, ., Inga, underarter, finns, listade, i, Catalogue of Life, ., Källor, ., (, 2007, ), ,, PDF, ,, Subías, 2007, :, World, Oribatida, catalog, ., Bisby, F, ., A, ., ,, Roskov, Y, ., R, ., ,, Orrell, T, ., M, ., ,, Nicolson, D, ., ,, Paglinawan, L, ., E, ., ,, Bailly, N, ., ,, Kirk, P, ., M, ., ,, Bourgoin, T, ., ,, Baillargeon, G, ., ,, Ouvrard, D, ., (, red, ., ), (, 1, mars, ), ., ”, Species, 2000, &, ITIS, Catalogue of Life, :, 2011, Annual, Checklist, ., ”, ., Species, 2000, :, Reading, ,, UK, ., http://www.catalogueoflife.org/annual-checklist/2011/search/all/key..."
      ]
     },
     "execution_count": 38,
     "metadata": {},
     "output_type": "execute_result"
    }
   ],
   "source": [
    "val groups = docs.map(doc => {\n",
    "    val NED = NamedEntityDisambiguation.`var`()\n",
    "    val T = Token.`var`()\n",
    "    val nedGroups = doc.select(NED, T).where(T).coveredBy(NED)\n",
    "    .stream()\n",
    "    .collect(QueryCollectors.groupBy(doc, NED).values(T).collector())\n",
    "    .asScala\n",
    "    .toList\n",
    "    \n",
    "    nedGroups.map(pg => {\n",
    "        pg.key(NED).getIdentifier\n",
    "        pg.value(0, T).text\n",
    "        val values = pg.nodes(T).asScala\n",
    "        if(values.size > 1){\n",
    "            val head = values.head\n",
    "            val last = values.last\n",
    "            head.setRange(head.getStart, last.getEnd)\n",
    "            values.tail.foreach(doc.remove)\n",
    "        }\n",
    "    })\n",
    "    doc\n",
    "}).take(1)\n",
    "groups(0).nodes(classOf[Token]).asScala.toSeq.toList"
   ]
  },
  {
   "cell_type": "code",
   "execution_count": null,
   "metadata": {
    "collapsed": true
   },
   "outputs": [],
   "source": []
  },
  {
   "cell_type": "code",
   "execution_count": null,
   "metadata": {
    "collapsed": true
   },
   "outputs": [],
   "source": []
  },
  {
   "cell_type": "code",
   "execution_count": null,
   "metadata": {
    "collapsed": true
   },
   "outputs": [],
   "source": []
  }
 ],
 "metadata": {
  "kernelspec": {
   "display_name": "Apache Toree - Scala",
   "language": "scala",
   "name": "apache_toree_scala"
  },
  "language_info": {
   "name": "scala",
   "version": "2.10.4"
  }
 },
 "nbformat": 4,
 "nbformat_minor": 2
}
